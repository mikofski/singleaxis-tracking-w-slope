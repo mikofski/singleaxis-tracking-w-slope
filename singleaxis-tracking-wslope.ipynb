{
 "cells": [
  {
   "cell_type": "markdown",
   "metadata": {},
   "source": [
    "# Proposal to add sloped terrain not parallel to tracker axes\n",
    "\n",
    "The following snippets demonstrate how single axis trackers can be modified to accomodate sopes not parallel to the tracker axis.\n",
    "\n",
    "## System Plane\n",
    "The system plane is a new parameter that is a tuple representing the azimuth and zenith of the normal to the plane that contains the tracker axes. It is called the system plane and not the slope or terrain plane, because it is defined by the plane that contains the tracker axes, even though the trackers might not be parallel to the system azimuth. EG: An E-W slope with N-S trackers; the slope normal faces either east or west, while the tracker axes are N-S.\n",
    "\n",
    "## Calculated Axis Tilt, Side Slope, and Relative Rotation\n",
    "Three new functions are added to calculated to adapt the single axis tracker to accomodate the system plane:\n",
    "* the **tracker axis tilt** is calculated as a function of the tracker azimuth and the system plane\n",
    "* the **side slope** is the slope of the system perpendicular to the tracker axes\n",
    "* the **relative rotation** is the azimuth of the tracker axes relative to the system plane azimuth\n",
    "\n",
    "### Axis Tilt\n",
    "Solving for the tracker tilt, $\\theta_{tracker}$, on a slope is derived in the following steps:\n",
    "\n",
    "1. the slope is the system plane normal, defined by an azimuth, zenith pair: $\\left(\\phi_{sys}, \\theta_{sys}\\right)$\n",
    "\n",
    "2. the trackers axes are in the system plane, so $z_{tracker,sys} = 0$\n",
    "\n",
    "3. rotate the trackers $\\left[x_{tracker,sys}, y_{tracker,sys}, 0\\right]$ **back** from the system to the global reference frame, but rotated by the tracker global azimuth, $\\phi_{tracker}$, if not zero, so that the tracker axis is constrained to y-z plane of the global reference frame and $x_{tracker,glo} = 0$\n",
    "\n",
    "$$R_{x,sys} = \\left[ { \\begin{array}{ccc}\n",
    "1&           0&            0\\\\\n",
    "0& \\cos\\left(\\theta_{sys}\\right)& -\\sin\\left(\\theta_{sys}\\right)\\\\\n",
    "0& \\sin\\left(\\theta_{sys}\\right)&  \\cos\\left(\\theta_{sys}\\right)\n",
    "\\end{array} }\\right]$$\n",
    "\n",
    "$$R_{z,sys} = \\left[ { \\begin{array}{ccc}\n",
    "\\cos\\left(\\phi_{sys} - \\phi_{tracker}\\right)& -\\sin\\left(\\phi_{sys} - \\phi_{tracker}\\right)& 0\\\\\n",
    "\\sin\\left(\\phi_{sys} - \\phi_{tracker}\\right)&  \\cos\\left(\\phi_{sys} - \\phi_{tracker}\\right)& 0\\\\\n",
    "                0&                  0& 1\n",
    "\\end{array} }\\right]$$\n",
    "\n",
    "$$tracker_{glo} = R_{z,sys}^{T} \\left(R_{x,sys}^{T} \\left[x_{tracker,sys}, y_{tracker,sys}, 0\\right]\\right)$$\n",
    "\n",
    "$$tracker_{glo} = \\left[ { \\begin{array}{ccc}\n",
    " x_{tracker,sys}\\cos\\left(\\phi_{sys} - \\phi_{tracker}\\right) + y_{tracker,sys}\\sin\\left(\\phi_{sys} - \\phi_{tracker}\\right)\\cos\\left(\\theta_{sys}\\right)\\\\\n",
    "-x_{tracker,sys}\\sin\\left(\\phi_{sys} - \\phi_{tracker}\\right) + y_{tracker,sys}\\cos\\left(\\phi_{sys} - \\phi_{tracker}\\right)\\cos\\left(\\theta_{sys}\\right)\\\\\n",
    "-y_{tracker,sys}\\sin\\left(\\theta_{sys}\\right)\n",
    "\\end{array} }\\right]$$\n",
    "\n",
    "\n",
    "4. solve for $x_{tracker,sys}$\n",
    "\n",
    "$$x_{tracker,sys}\\cos\\left(\\phi_{sys} - \\phi_{tracker}\\right) + y_{tracker,sys}\\sin\\left(\\phi_{sys} - \\phi_{tracker}\\right)\\cos\\left(\\theta_{sys}\\right) = 0$$\n",
    "$$x_{tracker,sys} = -y_{tracker,sys}\\tan\\left(\\phi_{sys} - \\phi_{tracker}\\right)\\cos\\left(\\theta_{sys}\\right)$$\n",
    "\n",
    "5. the tracker axis tilt is $\\theta_{tracker} = \\tan^{-1}\\left(\\frac{z_{tracker,glo}}{ y_{tracker,glo}}\\right)$, so substituting in the solution for $x_{tracker,glo}$ from the previous step into the expression for $tracker_{glo}$, we can solve for $y_{tracker,glo}$:\n",
    "\n",
    "$$y_{tracker,glo} = y_{tracker,sys} \\cos \\left( \\theta_{sys} \\right) \\left(\\tan\\left(\\phi_{sys} - \\phi_{tracker}\\right)\\sin\\left(\\phi_{sys} - \\phi_{tracker}\\right) + \\cos\\left(\\phi_{sys} - \\phi_{tracker}\\right)\\right)$$\n",
    "\n",
    "6. then substituting for $z_{tracker,glo}$ from the expression for $tracker_{glo}$, we can solve for $\\tan\\left(\\theta_{tracker}\\right)$:\n",
    "\n",
    "$$\\tan\\left(\\theta_{tracker}\\right) = \\frac{-y_{tracker,sys}\\sin\\left(\\theta_{sys}\\right)}{y_{tracker,glo}}$$\n",
    "\n",
    "The trick is multiply top and bottom by $\\cos\\left(\\phi_{sys} - \\phi{tracker}\\right)$ and remember that $\\sin^2 + \\cos^2 = 1$, then finally:\n",
    "\n",
    "$$\\tan\\left(\\theta_{tracker}\\right) = -\\tan\\left(\\theta_{sys}\\right)\\cos\\left(\\phi_{sys} - \\phi_{tracker}\\right) $$\n"
   ]
  },
  {
   "cell_type": "markdown",
   "metadata": {},
   "source": [
    "\n",
    "$$\\left[ { \\begin{array}{ccc}\n",
    "1 & 2 & 3 \\\\\n",
    "4 & 5 & 6 \\\\\n",
    "7 & 8 & 9\n",
    "\\end{array} }\\right]$$\n"
   ]
  }
 ],
 "metadata": {
  "kernelspec": {
   "display_name": "Python 3",
   "language": "python",
   "name": "python3"
  },
  "language_info": {
   "codemirror_mode": {
    "name": "ipython",
    "version": 3
   },
   "file_extension": ".py",
   "mimetype": "text/x-python",
   "name": "python",
   "nbconvert_exporter": "python",
   "pygments_lexer": "ipython3",
   "version": "3.7.4"
  }
 },
 "nbformat": 4,
 "nbformat_minor": 2
}
